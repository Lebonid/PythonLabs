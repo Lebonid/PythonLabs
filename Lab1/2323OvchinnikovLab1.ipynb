{
 "cells": [
  {
   "cell_type": "markdown",
   "id": "788da1d2-bb3c-447a-98cd-60cbd9e43c27",
   "metadata": {},
   "source": [
    "1. Данные о фильмах в онлайн кинотеатре Amazon Prime. Датасет был взят с сайта www.kaggle.com \n",
    "Этот набор данных содержит фильмы, доступные на сайте Amazon.com.\n",
    "2. В датасете имеются числовые данные. В датасете представлены следующие атрибуты:\n",
    " - title (название фильма) тип данных строковый\n",
    " - Movie Rating (рейтинг фильма) тип данных числовой\n",
    " - No_of_Ratings (количесвто оценок) тип данных числовой\n",
    " - ReleaseYear (год релиза фильма) тип данных числовой\n",
    " - MPAA_Rating (Возрастной рейтинг фильма) тип данных строковый\n",
    " - Directed_By\t(Режиссёр фильма) тип данных строковый\n",
    " - Starring (Каст фильма) тип данных строковый\n",
    " - Price (цена фильма) тип данных числовой"
   ]
  },
  {
   "cell_type": "code",
   "execution_count": 1,
   "id": "08ff5b35-173d-4c4c-ac6d-af3a42d1f02b",
   "metadata": {},
   "outputs": [
    {
     "data": {
      "text/html": [
       "<div>\n",
       "<style scoped>\n",
       "    .dataframe tbody tr th:only-of-type {\n",
       "        vertical-align: middle;\n",
       "    }\n",
       "\n",
       "    .dataframe tbody tr th {\n",
       "        vertical-align: top;\n",
       "    }\n",
       "\n",
       "    .dataframe thead th {\n",
       "        text-align: right;\n",
       "    }\n",
       "</style>\n",
       "<table border=\"1\" class=\"dataframe\">\n",
       "  <thead>\n",
       "    <tr style=\"text-align: right;\">\n",
       "      <th></th>\n",
       "      <th>Unnamed: 0</th>\n",
       "      <th>title</th>\n",
       "      <th>Movie_Rating</th>\n",
       "      <th>No_of_Ratings</th>\n",
       "      <th>Format</th>\n",
       "      <th>ReleaseYear</th>\n",
       "      <th>MPAA_Rating</th>\n",
       "      <th>Directed_By</th>\n",
       "      <th>Starring</th>\n",
       "      <th>Price</th>\n",
       "    </tr>\n",
       "  </thead>\n",
       "  <tbody>\n",
       "    <tr>\n",
       "      <th>0</th>\n",
       "      <td>0</td>\n",
       "      <td>Totally Killer</td>\n",
       "      <td>4.3</td>\n",
       "      <td>323</td>\n",
       "      <td>Prime Video</td>\n",
       "      <td>2023.0</td>\n",
       "      <td>R</td>\n",
       "      <td>Nahnatchka Khan</td>\n",
       "      <td>Kiernan Shipka,Olivia Holt,Julie Bowen</td>\n",
       "      <td>0.00</td>\n",
       "    </tr>\n",
       "    <tr>\n",
       "      <th>1</th>\n",
       "      <td>1</td>\n",
       "      <td>Guy Ritchie's The Covenant</td>\n",
       "      <td>4.7</td>\n",
       "      <td>13268</td>\n",
       "      <td>Prime Video</td>\n",
       "      <td>2023.0</td>\n",
       "      <td>R</td>\n",
       "      <td>Guy Ritchie</td>\n",
       "      <td>Jake Gyllenhaal,Dar Salim,Antony Starr</td>\n",
       "      <td>5.99</td>\n",
       "    </tr>\n",
       "    <tr>\n",
       "      <th>2</th>\n",
       "      <td>2</td>\n",
       "      <td>A Million Miles Away</td>\n",
       "      <td>4.9</td>\n",
       "      <td>1126</td>\n",
       "      <td>Prime Video</td>\n",
       "      <td>2023.0</td>\n",
       "      <td>PG</td>\n",
       "      <td>Alejandra Márquez Abella</td>\n",
       "      <td>Michael Peña,Rosa Salazar</td>\n",
       "      <td>0.00</td>\n",
       "    </tr>\n",
       "    <tr>\n",
       "      <th>3</th>\n",
       "      <td>3</td>\n",
       "      <td>Kelce</td>\n",
       "      <td>5.0</td>\n",
       "      <td>570</td>\n",
       "      <td>Prime Video</td>\n",
       "      <td>2023.0</td>\n",
       "      <td>NaN</td>\n",
       "      <td>Don Argott</td>\n",
       "      <td>Jason Kelce,Travis Kelce,Kylie Kelce,Connor Ba...</td>\n",
       "      <td>0.00</td>\n",
       "    </tr>\n",
       "    <tr>\n",
       "      <th>4</th>\n",
       "      <td>4</td>\n",
       "      <td>Despicable Me 3</td>\n",
       "      <td>4.8</td>\n",
       "      <td>31813</td>\n",
       "      <td>Prime Video</td>\n",
       "      <td>2017.0</td>\n",
       "      <td>PG</td>\n",
       "      <td>Pierre Coffin,Kyle Balda</td>\n",
       "      <td>Steve Carell,Kristen Wiig,Trey Parker</td>\n",
       "      <td>0.00</td>\n",
       "    </tr>\n",
       "  </tbody>\n",
       "</table>\n",
       "</div>"
      ],
      "text/plain": [
       "   Unnamed: 0                       title  Movie_Rating  No_of_Ratings  \\\n",
       "0           0              Totally Killer           4.3            323   \n",
       "1           1  Guy Ritchie's The Covenant           4.7          13268   \n",
       "2           2        A Million Miles Away           4.9           1126   \n",
       "3           3                       Kelce           5.0            570   \n",
       "4           4             Despicable Me 3           4.8          31813   \n",
       "\n",
       "        Format  ReleaseYear MPAA_Rating               Directed_By  \\\n",
       "0  Prime Video       2023.0           R           Nahnatchka Khan   \n",
       "1  Prime Video       2023.0           R               Guy Ritchie   \n",
       "2  Prime Video       2023.0          PG  Alejandra Márquez Abella   \n",
       "3  Prime Video       2023.0         NaN                Don Argott   \n",
       "4  Prime Video       2017.0          PG  Pierre Coffin,Kyle Balda   \n",
       "\n",
       "                                            Starring  Price  \n",
       "0             Kiernan Shipka,Olivia Holt,Julie Bowen   0.00  \n",
       "1             Jake Gyllenhaal,Dar Salim,Antony Starr   5.99  \n",
       "2                          Michael Peña,Rosa Salazar   0.00  \n",
       "3  Jason Kelce,Travis Kelce,Kylie Kelce,Connor Ba...   0.00  \n",
       "4              Steve Carell,Kristen Wiig,Trey Parker   0.00  "
      ]
     },
     "execution_count": 1,
     "metadata": {},
     "output_type": "execute_result"
    }
   ],
   "source": [
    "import pandas as pd\n",
    "import numpy as np\n",
    "import matplotlib.pyplot as plt\n",
    "\n",
    "df = pd.read_csv('amazonFilms.csv')\n",
    "df['Price'] = df['Price'].fillna(0)\n",
    "df['ReleaseYear'] = df['ReleaseYear'].fillna(0)\n",
    "df.head()"
   ]
  },
  {
   "cell_type": "code",
   "execution_count": 2,
   "id": "2ec84244-05e4-4c30-b626-abc3a19210f5",
   "metadata": {},
   "outputs": [],
   "source": [
    "def findOutData(arr, outline):\n",
    "    sortd = np.sort(arr)\n",
    "    num1 = np.ceil(25/100*len(sortd))\n",
    "    num2 = np.ceil(75/100*len(sortd))\n",
    "    num3 = num2-num1\n",
    "\n",
    "    hold1 = sortd[int(num1)]-1.5*sortd[int(num3)]\n",
    "    hold2 = sortd[int(num2)]+1.5*sortd[int(num3)]\n",
    "\n",
    "    i=0\n",
    "    while sortd[i] < hold1:\n",
    "        outline.append(sortd[i])\n",
    "        i += 1\n",
    "\n",
    "    i=-1\n",
    "    while hold2 < sortd[i]:\n",
    "        outline.append(sortd[i])\n",
    "        i -= 1\n",
    "        \n",
    "    return outline"
   ]
  },
  {
   "cell_type": "markdown",
   "id": "c8ec80b1-6627-47aa-a183-c5aab7705ec3",
   "metadata": {},
   "source": [
    "Цена за фильм"
   ]
  },
  {
   "cell_type": "code",
   "execution_count": 3,
   "id": "02a9aadb-27c9-4fbe-8f45-99b454fed0d0",
   "metadata": {},
   "outputs": [
    {
     "name": "stdout",
     "output_type": "stream",
     "text": [
      "Среднее цена за фильмы: 2.316698292220114\n",
      "СКО: 5.238597068922976\n",
      "Пропущенные значения: 0\n",
      "Выбросы: \n",
      "[119.99, 95.99, 76.99, 54.99, 52.75, 49.99, 29.99, 29.99, 29.96, 24.99, 24.96, 24.96, 24.61, 22.24, 21.24, 20.99, 19.99, 19.99, 19.99, 19.99, 19.99, 19.99, 19.99, 19.99, 19.99, 19.99, 19.99, 19.99, 19.96, 19.96, 19.96, 17.99, 16.99, 16.99, 15.59, 14.99, 14.99, 14.99, 14.99, 14.99, 14.99, 14.99, 14.69, 12.99, 12.99, 12.99, 12.99, 12.99, 12.99, 12.99, 12.99, 12.99, 9.99, 9.99, 9.99, 9.99, 9.99, 8.79, 7.99, 7.99, 7.99, 7.79, 6.99, 6.99, 5.99, 5.99, 5.99, 5.99, 5.99, 5.99, 5.99, 5.99, 5.99, 5.99, 5.99, 5.99, 5.99, 5.99, 5.99, 5.99, 5.99, 5.99, 5.99, 5.99, 5.99, 5.99, 5.99, 5.99, 5.99, 5.99, 5.99, 5.99, 5.99, 5.99, 5.99, 5.99, 5.99, 5.99, 5.99, 5.99, 5.99, 5.99, 5.99, 5.99, 5.99, 5.89, 5.89, 5.89, 5.29, 4.99, 4.99, 4.99, 4.99, 4.99, 4.99, 4.99, 4.99, 4.69, 4.59, 4.49, 4.29, 4.29, 4.29, 4.29, 4.29, 4.29, 4.29, 4.29, 4.29, 4.29, 4.29, 4.29, 4.29, 4.29, 4.19, 4.19, 4.19, 4.19, 4.19, 3.99, 3.99, 3.99, 3.99, 3.99, 3.99, 3.99, 3.99, 3.99, 3.99, 3.99, 3.99, 3.99, 3.99, 3.99, 3.99, 3.99, 3.99, 3.99, 3.99, 3.99, 3.99, 3.99, 3.99, 3.99, 3.99, 3.99, 3.99, 3.99, 3.99, 3.99, 3.99, 3.99, 3.99, 3.99, 3.99, 3.99, 3.99, 3.99, 3.99, 3.99, 3.99, 3.99, 3.99, 3.99, 3.99, 3.99, 3.99, 3.99, 3.99, 3.99, 3.99, 3.99, 3.99, 3.99, 3.99, 3.99, 3.99, 3.99, 3.99, 3.99, 3.99, 3.99, 3.99, 3.99, 3.99, 3.99, 3.99, 3.99, 3.99, 3.99, 3.99, 3.99, 3.99, 3.99, 3.99, 3.99, 3.99, 3.99, 3.99, 3.99, 3.99, 3.99, 3.99, 3.99, 3.99, 3.99, 3.99, 3.99, 3.99, 3.99, 3.99, 3.99, 3.99, 3.99, 3.99, 3.99, 3.99, 3.99, 3.99, 3.99, 3.99, 3.99, 3.99, 3.99, 3.99, 3.99, 3.99, 3.99, 3.99, 3.99, 3.99, 3.99, 3.99, 3.99, 3.99, 3.99, 3.99, 3.99, 3.99, 3.99, 3.99, 3.99, 3.99, 3.99, 3.99, 3.99, 3.99, 3.99, 3.99, 3.99, 3.99, 3.99, 3.99, 3.99, 3.99, 3.99, 3.99, 3.99, 3.99, 3.99, 3.99, 3.99, 3.99, 3.99, 3.99, 3.99, 3.99, 3.99, 3.99, 3.99, 3.99, 3.99, 3.99, 3.99, 3.99, 3.99, 3.99, 3.99, 3.99, 3.99, 3.99, 3.99, 3.99, 3.99, 3.99, 3.99, 3.99, 3.99, 3.99, 3.99, 3.99, 3.99, 3.99, 3.99, 3.99, 3.99, 3.99, 3.99, 3.99, 3.99, 3.99, 3.99, 3.99, 3.99, 3.99, 3.99, 3.99, 3.99, 3.99, 3.99, 3.99, 3.99, 3.99, 3.99, 3.99, 3.99, 3.99, 3.99, 3.99, 3.99, 3.99, 3.99, 3.99, 3.99, 3.99, 3.99, 3.99, 3.99, 3.99, 3.99, 3.99, 3.99, 3.99, 3.99, 3.99, 3.99, 3.99, 3.99, 3.99, 3.99, 3.99, 3.99, 3.99, 3.99, 3.99, 3.99, 3.99, 3.99, 3.99, 3.99, 3.99, 3.99, 3.99, 3.99, 3.99, 3.99, 3.99, 3.99, 3.99, 3.99, 3.99, 3.99, 3.99, 3.99, 3.99, 3.99, 3.99, 3.99, 3.99, 3.99, 3.99, 3.99, 3.99, 3.99, 3.99, 3.99, 3.99, 3.99, 3.99, 3.99, 3.99, 3.99, 3.99, 3.99, 3.99, 3.99, 3.99, 3.99, 3.99, 3.99, 3.99, 3.99, 3.99, 3.99, 3.99, 3.99, 3.99, 3.99, 3.99, 3.99, 3.99, 3.99, 3.99, 3.99, 3.99, 3.99, 3.99, 3.99, 3.99, 3.99, 3.99, 3.99, 3.99, 3.99, 3.99, 3.99, 3.99, 3.99, 3.99, 3.99, 3.89, 3.89, 3.89, 3.89, 3.89, 3.89, 3.89, 3.89, 3.89, 3.89, 3.89, 3.89, 3.89, 3.89, 3.89, 3.89, 3.89, 3.89, 3.89, 3.89, 3.89, 3.89, 3.89, 3.89, 3.89]\n"
     ]
    },
    {
     "data": {
      "image/png": "[encoded data removed]",
      "text/plain": [
       "<Figure size 1000x500 with 1 Axes>"
      ]
     },
     "metadata": {},
     "output_type": "display_data"
    }
   ],
   "source": [
    "\n",
    "Price = np.array((df['Price']))\n",
    "PriceMean = Price.mean()\n",
    "print('Среднее цена за фильмы: ' + str(PriceMean))\n",
    "\n",
    "PriceCount = np.std(Price)\n",
    "print('СКО: ' + str(PriceCount))\n",
    "\n",
    "\n",
    "plt.figure(figsize=(10, 5))\n",
    "plt.hist(df['Price'], bins=30);\n",
    "plt.grid(True)\n",
    "plt.title('total price Movie')\n",
    "\n",
    "print('Пропущенные значения: ' + str(df['Price'].isna().sum()))\n",
    "\n",
    "pOutliers = []\n",
    "\n",
    "print('Выбросы: ')\n",
    "print(findOutData(Price, pOutliers))"
   ]
  },
  {
   "cell_type": "markdown",
   "id": "0add1b7a-212d-4a63-9863-181c4419b53c",
   "metadata": {},
   "source": [
    "Сколько всего оценок выставлено"
   ]
  },
  {
   "cell_type": "code",
   "execution_count": 4,
   "id": "3a4d7ba8-f385-4e8d-970d-7276454f935d",
   "metadata": {},
   "outputs": [
    {
     "name": "stdout",
     "output_type": "stream",
     "text": [
      "Среднее занчение: 8090.982447817837\n",
      "СКО: 16153.642159883884\n",
      "Пропущенные значения 0\n",
      "Выбросы: \n",
      "[142807, 129546, 123979, 123576, 107996, 107727, 105415, 104063, 99475, 99475, 99475, 96699, 94057, 92245, 91643, 91643, 91189, 89526, 89389, 87774, 87453, 87364, 86741, 86512, 86512, 84154, 84154, 80844, 79317, 79317, 79317, 77780, 77581, 74386, 73933, 73089, 72001, 71931, 71931, 71886, 70514, 68377, 67696, 66280, 66164, 65182, 65028, 62722, 62722, 62267, 61762, 61727, 60356, 59720, 59503, 58673, 58673, 58428, 58050, 57533, 57096, 56738, 55248, 55016, 54268, 52995, 52395, 52376, 52086, 52031, 51314, 51314, 48717, 48638, 48525, 48525, 46056, 45087, 44910, 44769, 44068, 43723, 43712, 43543, 43543, 43347, 43165, 42577, 42577, 42476, 41966, 41966, 41478, 41478, 41478, 41213, 41189, 41152, 41152, 40717, 40533, 40533, 40368, 40368, 40368, 39847, 39645, 39613, 39565, 39509, 39246, 38526, 38526, 38098, 37902, 37033, 36270, 36189, 36077, 35984, 35486, 35319, 35142, 34754, 34346, 34289, 34184, 34015, 33990, 33831, 33799, 33799, 33652, 33588, 33545, 33531, 33504, 33263, 33009, 32449, 32405, 32282, 32182, 32182, 32182, 32179, 32111, 32102, 31962, 31813, 31747, 31341, 30562, 30058, 29984, 29939, 29938, 29250, 29055, 28644, 28619, 28518, 28387, 28229, 28201, 28201, 28037, 27905, 27752, 27752, 27734, 27666, 27622, 27590, 27121, 27121, 27007, 26867, 26867, 26859, 26702, 26592, 26335, 26252, 26055, 25928, 25865, 25770, 25730, 25403, 25403, 24838, 24433, 24419, 24088, 24088, 24063, 24063, 23990, 23896, 23787, 23787, 23599, 23599, 23522, 23519, 23398, 23315, 23315, 23305, 23275, 22762, 22499, 22499, 22323, 22080, 22041, 21906, 21760, 21715, 21660, 21660, 21397, 21041, 21040, 21016, 20982, 20808, 20801, 20736, 20625, 20599, 20486, 20219, 20219, 20092, 20084, 20083, 20077, 19811, 19745, 19557, 19474, 19349, 19280, 19139, 19087, 18919, 18826, 18826, 18613, 18602, 18600, 18599, 18251, 18199, 18114, 18032, 17967, 17967, 17894, 17812, 17794, 17794, 17706, 17646, 17569, 17569, 17518, 17299, 17180, 17180, 17100, 17021, 16979, 16970, 16894, 16869, 16779, 16775, 16759, 16734, 16662, 16647, 16610, 16498, 16498, 16399, 16359, 16270, 16168, 16144, 15956, 15846, 15836, 15706, 15638, 15618, 15558, 15554, 15538, 15534, 15514, 15320, 15269, 15240, 15175, 15128, 15117, 15110, 15089, 15043, 14810, 14797, 14797, 14767, 14732, 14717, 14717, 14547, 14540, 14415, 14412, 14330, 14322, 14319, 14280, 14173, 14113, 14088, 14024, 14012, 13990, 13967, 13920, 13866, 13833, 13824, 13824, 13637, 13561, 13436, 13372, 13369, 13345, 13301, 13268, 13213, 13137, 13035, 13028, 12962, 12907, 12888, 12869, 12793, 12733, 12733, 12721, 12720, 12665, 12563, 12545, 12466, 12361, 12330, 12316, 12295, 12201, 12114, 12066, 12062, 12062, 11815, 11708, 11627, 11627, 11617, 11508, 11453, 11442, 11428, 11395, 11374, 11360, 11329, 11250, 11182, 11182, 11182, 11102, 11102, 11096, 11041, 11034, 10845, 10840, 10831]\n"
     ]
    },
    {
     "data": {
      "image/png": "[encoded data removed]",
      "text/plain": [
       "<Figure size 1000x500 with 1 Axes>"
      ]
     },
     "metadata": {},
     "output_type": "display_data"
    }
   ],
   "source": [
    "\n",
    "totalScore = np.array(df['No_of_Ratings'])\n",
    "totalScoreMean = totalScore.mean()\n",
    "print('Среднее занчение: ' + str(totalScore.mean()))\n",
    "\n",
    "totalScoreCount = np.std(totalScore)\n",
    "print('СКО: ' + str(totalScoreCount))\n",
    "\n",
    "plt.figure(figsize=(10, 5))\n",
    "plt.hist(df['No_of_Ratings'], bins=30);\n",
    "plt.grid(True)\n",
    "plt.title('Total Score Raiting')\n",
    "\n",
    "print('Пропущенные значения ' + str(df['No_of_Ratings'].isna().sum()))\n",
    "\n",
    "tvOutliers = []\n",
    "\n",
    "print('Выбросы: ')\n",
    "print(findOutData(totalScore, tvOutliers))"
   ]
  },
  {
   "cell_type": "markdown",
   "id": "3d09c6c3-9b19-4e0f-81f3-c5c768241bba",
   "metadata": {},
   "source": [
    "Год выпуска фильма"
   ]
  },
  {
   "cell_type": "code",
   "execution_count": 5,
   "id": "a9343c21-b718-4a89-8331-8d85f797cb9c",
   "metadata": {},
   "outputs": [
    {
     "name": "stdout",
     "output_type": "stream",
     "text": [
      "Среднее занчение: 1971.0460151802656\n",
      "СКО: 271.0099920930813\n",
      "Пропущенные значения: 0\n",
      "Выбросы: \n",
      "[]\n"
     ]
    },
    {
     "data": {
      "image/png": "[encoded data removed]",
      "text/plain": [
       "<Figure size 1500x500 with 1 Axes>"
      ]
     },
     "metadata": {},
     "output_type": "display_data"
    }
   ],
   "source": [
    "\n",
    "totalYear = np.array(df['ReleaseYear'])\n",
    "totalYearMean = totalYear.mean()\n",
    "print('Среднее занчение: ' + str(totalYearMean))\n",
    "\n",
    "totalYearCount = np.std(totalYear)\n",
    "print('СКО: ' + str(totalYearCount))\n",
    "\n",
    "plt.figure(figsize=(15, 5))\n",
    "plt.hist(df['ReleaseYear'], bins=15);\n",
    "plt.grid(True)\n",
    "plt.title('Total Release Year')\n",
    "\n",
    "print('Пропущенные значения: ' + str(df['ReleaseYear'].isna().sum()))\n",
    "\n",
    "YaOutData = []\n",
    "\n",
    "print('Выбросы: ')\n",
    "print(findOutData(totalYear, YaOutData))"
   ]
  },
  {
   "cell_type": "code",
   "execution_count": 6,
   "id": "96ee4548-ae12-40bf-83c7-113c122b05fa",
   "metadata": {},
   "outputs": [
    {
     "ename": "SyntaxError",
     "evalue": "invalid syntax (314754690.py, line 1)",
     "output_type": "error",
     "traceback": [
      "\u001b[1;36m  Cell \u001b[1;32mIn[6], line 1\u001b[1;36m\u001b[0m\n\u001b[1;33m    Оценка фильмов\u001b[0m\n\u001b[1;37m           ^\u001b[0m\n\u001b[1;31mSyntaxError\u001b[0m\u001b[1;31m:\u001b[0m invalid syntax\n"
     ]
    }
   ],
   "source": [
    "Оценка фильмов"
   ]
  },
  {
   "cell_type": "code",
   "execution_count": null,
   "id": "22414b06-4c16-486e-a137-cec575ac6184",
   "metadata": {},
   "outputs": [],
   "source": [
    "\n",
    "avgRate = np.array(df['Movie_Rating'] )\n",
    "avgRateMean = avgRate.mean()\n",
    "print('Среднее занчение: ' + str(avgRateMean))\n",
    "\n",
    "avgRateCount = np.std(avgRate)\n",
    "print('СКО: ' + str(avgRateCount))\n",
    "\n",
    "plt.figure(figsize=(10, 5))\n",
    "plt.hist(df['Movie_Rating'], bins=30);\n",
    "plt.grid(True)\n",
    "plt.title('Total Movie Rating')\n",
    "\n",
    "print('Пропущенные значения: ' + str(df['Movie_Rating'].isna().sum()))\n",
    "\n",
    "RateOutData = []\n",
    "\n",
    "print('Выбросы: ')\n",
    "print(findOutData(totalScore, RateOutData))"
   ]
  },
  {
   "cell_type": "code",
   "execution_count": null,
   "id": "a549c6fd-255b-467c-930b-aaaf981b8891",
   "metadata": {},
   "outputs": [],
   "source": [
    "corrCoff1 = np.corrcoef(avgRate,totalScore)\n",
    "print('Матрица корелляции:' )\n",
    "print(corrCoff1)\n",
    "\n",
    "plt.figure(figsize=(10,5))\n",
    "plt.scatter(df['Movie_Rating'],df['No_of_Ratings']);\n",
    "plt.xlabel('Movie_Rating')\n",
    "plt.ylabel('No_of_Ratings')\n",
    "plt.title('Dependence Rate Movie on total Score')"
   ]
  },
  {
   "cell_type": "code",
   "execution_count": null,
   "id": "20c9b445-4511-4b79-874c-bedc0db23be1",
   "metadata": {},
   "outputs": [],
   "source": [
    "corrCoff2 = np.corrcoef(Price,totalYear)\n",
    "print('Матрица корелляции:' )\n",
    "print(corrCoff2)\n",
    "\n",
    "plt.figure(figsize=(10,5))\n",
    "plt.scatter(df['ReleaseYear'],df['Price']);\n",
    "plt.xlabel('ReleaseYear')\n",
    "plt.ylabel('Price')\n",
    "plt.title('Dependence Price Movie on Release Year')"
   ]
  },
  {
   "cell_type": "code",
   "execution_count": null,
   "id": "88c01708-77b3-48a2-89e7-883967ac1e11",
   "metadata": {},
   "outputs": [],
   "source": [
    "corrCoff3 = np.corrcoef(avgRate,totalYear)\n",
    "print('Матрица корелляции:' )\n",
    "print(corrCoff3)\n",
    "\n",
    "plt.figure(figsize=(10,5))\n",
    "plt.scatter(df['Movie_Rating'],df['ReleaseYear']);\n",
    "plt.ylabel('ReleaseYear')\n",
    "plt.xlabel('Movie_Rating')\n",
    "plt.title('Dependence Rate Movie on Release Year')"
   ]
  },
  {
   "cell_type": "code",
   "execution_count": null,
   "id": "de9e8c5c-eeaa-4e9c-9bd5-e556e1ba6a14",
   "metadata": {},
   "outputs": [],
   "source": [
    "corrCoff4 = np.corrcoef(avgRate,Price)\n",
    "print('Матрица корелляции:' )\n",
    "print(corrCoff4)\n",
    "\n",
    "plt.figure(figsize=(10,5))\n",
    "plt.scatter(df['Movie_Rating'],df['Price']);\n",
    "plt.ylabel('Price')\n",
    "plt.xlabel('Movie_Rating')\n",
    "plt.title('Dependence Rate Movie on Price')"
   ]
  },
  {
   "cell_type": "markdown",
   "id": "5b86108d-f48f-497a-b2c4-774821e13df3",
   "metadata": {},
   "source": [
    "Из полученных результатов можем сделать вывод, что в текущем наборе данных представлены фильма с оценкой 4 и до 5. И в основном фильмы, вышедшие в период со 1950 до 2023."
   ]
  }
 ],
 "metadata": {
  "kernelspec": {
   "display_name": "Python 3 (ipykernel)",
   "language": "python",
   "name": "python3"
  },
  "language_info": {
   "codemirror_mode": {
    "name": "ipython",
    "version": 3
   },
   "file_extension": ".py",
   "mimetype": "text/x-python",
   "name": "python",
   "nbconvert_exporter": "python",
   "pygments_lexer": "ipython3",
   "version": "3.12.4"
  }
 },
 "nbformat": 4,
 "nbformat_minor": 5
}
